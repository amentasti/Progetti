{
  "metadata": {
    "kernelspec": {
      "name": "python",
      "display_name": "Python (Pyodide)",
      "language": "python"
    },
    "language_info": {
      "codemirror_mode": {
        "name": "python",
        "version": 3
      },
      "file_extension": ".py",
      "mimetype": "text/x-python",
      "name": "python",
      "nbconvert_exporter": "python",
      "pygments_lexer": "ipython3",
      "version": "3.8"
    }
  },
  "nbformat_minor": 4,
  "nbformat": 4,
  "cells": [
    {
      "cell_type": "markdown",
      "source": "5. Il giro del mondo in 80 giorni\n\n Consideriamo il [dataset](http://island.ricerca.di.unimi.it/~alfio/shared/worldcities.xlsx) che descrive alcune delle principali \n città del mondo. Supponiamo che sia sempre possibile viaggiare da ciascuna città alle 3 città più vicine e che tale viaggio \n richieda 2 ore per la città più vicina, 4 ore per la seconda città più vicina e 8 ore per la terza città più vicina. \n Inoltre, il viaggio dura altre 2 ore se la città di destinazione si trova in un Paese diverso da quello di partenza e altre 2 ore \n se la città di destinazione ha più di 200.000 abitanti.\n\n Partendo da Londra e viaggiando sempre verso est, è possibile fare il giro del mondo tornando a Londra in 80 giorni? \n Quanto tempo richiede almeno?\n\n\n\nImportiamo pandas per la gestione dei dati e math per eseguire calcoli matematici",
      "metadata": {}
    },
    {
      "cell_type": "code",
      "source": "import pandas as pd\nimport math",
      "metadata": {
        "trusted": true
      },
      "outputs": [],
      "execution_count": null
    },
    {
      "cell_type": "markdown",
      "source": " Leggiamo il file Excel e creiamo il DataFrame",
      "metadata": {}
    },
    {
      "cell_type": "code",
      "source": "file_worldcities = 'C:\\\\Users\\\\Admin\\\\OneDrive\\\\Desktop\\\\Data Science\\\\Programming with Python\\\\worldcities.xlsx'\ndf = pd.read_excel(file_worldcities)",
      "metadata": {
        "trusted": true
      },
      "outputs": [],
      "execution_count": null
    },
    {
      "cell_type": "markdown",
      "source": "Formattiamo le colonne di latitudine e longitudine come numeri decimali",
      "metadata": {}
    },
    {
      "cell_type": "code",
      "source": "df['lat'] = df['lat'].astype(float)\ndf['lng'] = df['lng'].astype(float)",
      "metadata": {
        "trusted": true
      },
      "outputs": [],
      "execution_count": null
    },
    {
      "cell_type": "markdown",
      "source": "Per rendere più verosimile il cammino che dovremmo  percorrere, andiamo a prendere le città che hanno latitudine +/- 3 \nrispetto a Londra (51)",
      "metadata": {}
    },
    {
      "cell_type": "code",
      "source": "df = df[df['lat'].astype(int).isin([48, 49, 50, 51, 52, 53, 54])]",
      "metadata": {
        "trusted": true
      },
      "outputs": [],
      "execution_count": null
    },
    {
      "cell_type": "markdown",
      "source": "Per semplificare il calcolo prendiamo solo la parte intera della latitudine e della longitudine",
      "metadata": {}
    },
    {
      "cell_type": "code",
      "source": "df['lat_int'] = df['lat'].astype(int)\ndf['lng_int'] = df['lng'].astype(int)",
      "metadata": {
        "trusted": true
      },
      "outputs": [],
      "execution_count": null
    },
    {
      "cell_type": "markdown",
      "source": "Convertiamo il DataFrame in una lista di dizionari, dove ogni dizionario rappresenta una città",
      "metadata": {}
    },
    {
      "cell_type": "code",
      "source": "cities = df.to_dict(orient='records')",
      "metadata": {
        "trusted": true
      },
      "outputs": [],
      "execution_count": null
    },
    {
      "cell_type": "markdown",
      "source": "Per risolvere il problema della continuita longitudinale (+180/-180) creiamo una lista aggiuntiva con longitudini positive e \nnegative convertite",
      "metadata": {}
    },
    {
      "cell_type": "code",
      "source": "extended_cities = []\nfor city in cities:\n    extended_cities.append(city)\n    if city['lng_int'] < 0:\n        city_copy = city.copy()\n        city_copy['lng_int'] += 360  # Trasforma le longitudini negative in positive\n        extended_cities.append(city_copy)",
      "metadata": {
        "trusted": true
      },
      "outputs": [],
      "execution_count": null
    },
    {
      "cell_type": "markdown",
      "source": "Per calcolare la distanza tra le città usiamo il teorema di pitagora considerando la continuità longitudinale",
      "metadata": {}
    },
    {
      "cell_type": "code",
      "source": "def pitagora_distance(lat1, lon1, lat2, lon2):\n    delta_lon = lon2 - lon1\n    if abs(delta_lon) > 180:  # Considera la continuità longitudinale\n        delta_lon = 360 - abs(delta_lon)\n    return math.sqrt((lat2 - lat1) ** 2 + delta_lon ** 2)",
      "metadata": {
        "trusted": true
      },
      "outputs": [],
      "execution_count": null
    },
    {
      "cell_type": "markdown",
      "source": "Imponiamo che lo spostamento alla città più vicina possa essere fatto solo verso est",
      "metadata": {}
    },
    {
      "cell_type": "code",
      "source": "def find_closest_city(city, cities, visited_cities):\n    closest_city = None\n    min_distance = float('inf')\n    for target in cities:\n        if target != city and target['city'] not in visited_cities:      #Imponiamo che non sia tra le città già visitate\n            if target['lng_int'] > city['lng_int']:\n                distance = pitagora_distance(city['lat_int'], city['lng_int'], target['lat_int'], target['lng_int'])\n                if distance < min_distance:\n                    min_distance = distance\n                    closest_city = target\n    return closest_city",
      "metadata": {
        "trusted": true
      },
      "outputs": [],
      "execution_count": null
    },
    {
      "cell_type": "markdown",
      "source": "Calcoliamo la funzione per il tempo di viaggio, imponendo tutte le condizioni su distanza, paese e popolazione",
      "metadata": {}
    },
    {
      "cell_type": "code",
      "source": "def travel_time(from_city, to_city):\n    distance = pitagora_distance(from_city['lat_int'], from_city['lng_int'], to_city['lat_int'], to_city['lng_int'])\n    if distance == 0:\n        return 0  # Non ci si sposta\n    if distance <= 1:          # Condizioni sulla distanza\n        time = 2\n    elif distance <= 2:\n        time = 4\n    else:\n        time = 8\n    if from_city['country'] != to_city['country']:     # Condizioni sul paese\n        time += 2\n    if to_city['population'] > 200000:      # Condizioni sulla popolazione\n        time += 2\n    return time",
      "metadata": {
        "trusted": true
      },
      "outputs": [],
      "execution_count": null
    },
    {
      "cell_type": "markdown",
      "source": "Troviamo la città di partenza (Londra) e simuliamo il viaggio con un ciclo while",
      "metadata": {}
    },
    {
      "cell_type": "code",
      "source": "start_city = next(city for city in cities if city['city'] == 'London')\n\ndef simulate_journey(start_city, cities):\n    current_city = start_city\n    visited_cities = set()\n    visited_cities_list = []\n    total_time = 0\n    while True:\n        visited_cities.add(current_city['city'])          #Aggiungiamo la città corrente alle città visitate\n        visited_cities_list.append(current_city['city'])\n        closest_city = find_closest_city(current_city, cities, visited_cities)   #Troviamo la città più vicina verso est\n        if closest_city is None:                      #Se non ci sono più città da visitare usciamo dal ciclo\n            break\n        travel = travel_time(current_city, closest_city)        #Calcoliamo il tempo di viaggio tra le 2 città e sommiamo al totale\n        total_time += travel\n        current_city = closest_city\n        if current_city['city'] == start_city['city'] and len(visited_cities) == len(cities):   #Controlliamo se la città corrente è la città di partenza e se tutte le città nella lista cities sono state visitate. Se entrambe le condizioni sono vere, esce dal ciclo\n            break        \n    \n    return total_time, visited_cities_list",
      "metadata": {
        "trusted": true
      },
      "outputs": [],
      "execution_count": null
    },
    {
      "cell_type": "markdown",
      "source": "Simulazione del viaggio a partire da Londra e stampiamo gli output",
      "metadata": {}
    },
    {
      "cell_type": "code",
      "source": "total_travel_time, visited_cities_list = simulate_journey(start_city, extended_cities)\n\nprint(\"Città visitate nel viaggio:\")\nprint(\" -> \".join(visited_cities_list))\nprint(f\"Durata totale del viaggio: {total_travel_time} ore\")\nprint(f\"È possibile completare il giro del mondo in 80 giorni? {'Sì' if total_travel_time <= 80*24 else 'No'}\")",
      "metadata": {
        "trusted": true
      },
      "outputs": [
        {
          "ename": "<class 'NameError'>",
          "evalue": "name 'simulate_journey' is not defined",
          "traceback": [
            "\u001b[0;31m---------------------------------------------------------------------------\u001b[0m",
            "\u001b[0;31mNameError\u001b[0m                                 Traceback (most recent call last)",
            "Cell \u001b[0;32mIn[1], line 1\u001b[0m\n\u001b[0;32m----> 1\u001b[0m total_travel_time, visited_cities_list \u001b[38;5;241m=\u001b[39m \u001b[43msimulate_journey\u001b[49m(start_city, extended_cities)\n\u001b[1;32m      3\u001b[0m \u001b[38;5;28mprint\u001b[39m(\u001b[38;5;124m\"\u001b[39m\u001b[38;5;124mCittà visitate nel viaggio:\u001b[39m\u001b[38;5;124m\"\u001b[39m)\n\u001b[1;32m      4\u001b[0m \u001b[38;5;28mprint\u001b[39m(\u001b[38;5;124m\"\u001b[39m\u001b[38;5;124m -> \u001b[39m\u001b[38;5;124m\"\u001b[39m\u001b[38;5;241m.\u001b[39mjoin(visited_cities_list))\n",
            "\u001b[0;31mNameError\u001b[0m: name 'simulate_journey' is not defined"
          ],
          "output_type": "error"
        }
      ],
      "execution_count": 1
    }
  ]
}