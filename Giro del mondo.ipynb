{
  "cells": [
    {
      "cell_type": "markdown",
      "metadata": {},
      "source": [
        "5. Il giro del mondo in 80 giorni\n",
        "\n",
        " Consideriamo il [dataset](http://island.ricerca.di.unimi.it/~alfio/shared/worldcities.xlsx) che descrive alcune delle principali \n",
        " città del mondo. Supponiamo che sia sempre possibile viaggiare da ciascuna città alle 3 città più vicine e che tale viaggio \n",
        " richieda 2 ore per la città più vicina, 4 ore per la seconda città più vicina e 8 ore per la terza città più vicina. \n",
        " Inoltre, il viaggio dura altre 2 ore se la città di destinazione si trova in un Paese diverso da quello di partenza e altre 2 ore \n",
        " se la città di destinazione ha più di 200.000 abitanti.\n",
        "\n",
        " Partendo da Londra e viaggiando sempre verso est, è possibile fare il giro del mondo tornando a Londra in 80 giorni? \n",
        " Quanto tempo richiede almeno?\n",
        "\n",
        "\n",
        "\n",
        "Importiamo pandas per la gestione dei dati e math per eseguire calcoli matematici"
      ]
    },
    {
      "cell_type": "code",
      "execution_count": 13,
      "metadata": {
        "trusted": true
      },
      "outputs": [],
      "source": [
        "import pandas as pd\n",
        "import math"
      ]
    },
    {
      "cell_type": "markdown",
      "metadata": {},
      "source": [
        " Leggiamo il file Excel e creiamo il DataFrame"
      ]
    },
    {
      "cell_type": "code",
      "execution_count": 14,
      "metadata": {
        "trusted": true
      },
      "outputs": [],
      "source": [
        "file_worldcities = 'C:\\\\Users\\\\Admin\\\\OneDrive\\\\Desktop\\\\Data Science\\\\Programming with Python\\\\worldcities.xlsx'\n",
        "df = pd.read_excel(file_worldcities)"
      ]
    },
    {
      "cell_type": "markdown",
      "metadata": {},
      "source": [
        "Formattiamo le colonne di latitudine e longitudine come numeri decimali"
      ]
    },
    {
      "cell_type": "code",
      "execution_count": 15,
      "metadata": {
        "trusted": true
      },
      "outputs": [],
      "source": [
        "df['lat'] = df['lat'].astype(float)\n",
        "df['lng'] = df['lng'].astype(float)"
      ]
    },
    {
      "cell_type": "markdown",
      "metadata": {},
      "source": [
        "Per rendere più verosimile il cammino che dovremmo  percorrere, andiamo a prendere le città che hanno latitudine +/- 3 \n",
        "rispetto a Londra (51)"
      ]
    },
    {
      "cell_type": "code",
      "execution_count": 16,
      "metadata": {
        "trusted": true
      },
      "outputs": [],
      "source": [
        "df = df[df['lat'].astype(int).isin([48, 49, 50, 51, 52, 53, 54])]"
      ]
    },
    {
      "cell_type": "markdown",
      "metadata": {},
      "source": [
        "Per semplificare il calcolo prendiamo solo la parte intera della latitudine e della longitudine"
      ]
    },
    {
      "cell_type": "code",
      "execution_count": 17,
      "metadata": {
        "trusted": true
      },
      "outputs": [],
      "source": [
        "df['lat_int'] = df['lat'].astype(int)\n",
        "df['lng_int'] = df['lng'].astype(int)"
      ]
    },
    {
      "cell_type": "markdown",
      "metadata": {},
      "source": [
        "Convertiamo il DataFrame in una lista di dizionari, dove ogni dizionario rappresenta una città"
      ]
    },
    {
      "cell_type": "code",
      "execution_count": 18,
      "metadata": {
        "trusted": true
      },
      "outputs": [],
      "source": [
        "cities = df.to_dict(orient='records')"
      ]
    },
    {
      "cell_type": "markdown",
      "metadata": {},
      "source": [
        "Per risolvere il problema della continuita longitudinale (+180/-180) creiamo una lista aggiuntiva con longitudini positive e \n",
        "negative convertite"
      ]
    },
    {
      "cell_type": "code",
      "execution_count": 19,
      "metadata": {
        "trusted": true
      },
      "outputs": [],
      "source": [
        "extended_cities = []\n",
        "for city in cities:\n",
        "    extended_cities.append(city)\n",
        "    if city['lng_int'] < 0:\n",
        "        city_copy = city.copy()\n",
        "        city_copy['lng_int'] += 360  # Trasforma le longitudini negative in positive\n",
        "        extended_cities.append(city_copy)"
      ]
    },
    {
      "cell_type": "markdown",
      "metadata": {},
      "source": [
        "Per calcolare la distanza tra le città usiamo il teorema di pitagora considerando la continuità longitudinale"
      ]
    },
    {
      "cell_type": "code",
      "execution_count": 20,
      "metadata": {
        "trusted": true
      },
      "outputs": [],
      "source": [
        "def pitagora_distance(lat1, lon1, lat2, lon2):\n",
        "    delta_lon = lon2 - lon1\n",
        "    if abs(delta_lon) > 180:  # Considera la continuità longitudinale\n",
        "        delta_lon = 360 - abs(delta_lon)\n",
        "    return math.sqrt((lat2 - lat1) ** 2 + delta_lon ** 2)"
      ]
    },
    {
      "cell_type": "markdown",
      "metadata": {},
      "source": [
        "Imponiamo che lo spostamento alla città più vicina possa essere fatto solo verso est"
      ]
    },
    {
      "cell_type": "code",
      "execution_count": 21,
      "metadata": {
        "trusted": true
      },
      "outputs": [],
      "source": [
        "def find_closest_city(city, cities, visited_cities):\n",
        "    closest_city = None\n",
        "    min_distance = float('inf')\n",
        "    for target in cities:\n",
        "        if target != city and target['city'] not in visited_cities:      #Imponiamo che non sia tra le città già visitate\n",
        "            if target['lng_int'] > city['lng_int']:\n",
        "                distance = pitagora_distance(city['lat_int'], city['lng_int'], target['lat_int'], target['lng_int'])\n",
        "                if distance < min_distance:\n",
        "                    min_distance = distance\n",
        "                    closest_city = target\n",
        "    return closest_city"
      ]
    },
    {
      "cell_type": "markdown",
      "metadata": {},
      "source": [
        "Calcoliamo la funzione per il tempo di viaggio, imponendo tutte le condizioni su distanza, paese e popolazione"
      ]
    },
    {
      "cell_type": "code",
      "execution_count": 22,
      "metadata": {
        "trusted": true
      },
      "outputs": [],
      "source": [
        "def travel_time(from_city, to_city):\n",
        "    distance = pitagora_distance(from_city['lat_int'], from_city['lng_int'], to_city['lat_int'], to_city['lng_int'])\n",
        "    if distance == 0:\n",
        "        return 0  # Non ci si sposta\n",
        "    if distance <= 1:          # Condizioni sulla distanza\n",
        "        time = 2\n",
        "    elif distance <= 2:\n",
        "        time = 4\n",
        "    else:\n",
        "        time = 8\n",
        "    if from_city['country'] != to_city['country']:     # Condizioni sul paese\n",
        "        time += 2\n",
        "    if to_city['population'] > 200000:      # Condizioni sulla popolazione\n",
        "        time += 2\n",
        "    return time"
      ]
    },
    {
      "cell_type": "markdown",
      "metadata": {},
      "source": [
        "Troviamo la città di partenza (Londra) e simuliamo il viaggio con un ciclo while"
      ]
    },
    {
      "cell_type": "code",
      "execution_count": 23,
      "metadata": {
        "trusted": true
      },
      "outputs": [],
      "source": [
        "start_city = next(city for city in cities if city['city'] == 'London')\n",
        "\n",
        "def simulate_journey(start_city, cities):\n",
        "    current_city = start_city\n",
        "    visited_cities = set()\n",
        "    visited_cities_list = []\n",
        "    total_time = 0\n",
        "    while True:\n",
        "        visited_cities.add(current_city['city'])          #Aggiungiamo la città corrente alle città visitate\n",
        "        visited_cities_list.append(current_city['city'])\n",
        "        closest_city = find_closest_city(current_city, cities, visited_cities)   #Troviamo la città più vicina verso est\n",
        "        if closest_city is None:                      #Se non ci sono più città da visitare usciamo dal ciclo\n",
        "            break\n",
        "        travel = travel_time(current_city, closest_city)        #Calcoliamo il tempo di viaggio tra le 2 città e sommiamo al totale\n",
        "        total_time += travel\n",
        "        current_city = closest_city\n",
        "        if current_city['city'] == start_city['city'] and len(visited_cities) == len(cities):   #Controlliamo se la città corrente è la città di partenza e se tutte le città nella lista cities sono state visitate. Se entrambe le condizioni sono vere, esce dal ciclo\n",
        "            break        \n",
        "    \n",
        "    return total_time, visited_cities_list"
      ]
    },
    {
      "cell_type": "markdown",
      "metadata": {},
      "source": [
        "Simulazione del viaggio a partire da Londra e stampiamo gli output"
      ]
    },
    {
      "cell_type": "code",
      "execution_count": 24,
      "metadata": {
        "trusted": true
      },
      "outputs": [
        {
          "name": "stdout",
          "output_type": "stream",
          "text": [
            "Città visitate nel viaggio:\n",
            "London -> Broadstairs -> Veurne -> Lokeren -> Herentals -> Arnhem -> Velen -> Warendorf -> Horn-Bad Meinberg -> Bad Sooden-Allendorf -> Blankenburg -> Merseburg -> Hartha -> Lübbenau -> Görlitz -> Chojnów -> Brzeg Dolny -> Pleszew -> Sieradz -> Piotrków Trybunalski -> Mszczonów -> Puławy -> Łęczna -> Chełm -> Kamin’-Kashyrs’kyy -> Dubno -> Izyaslav -> Baranivka -> Zhytomyr -> Fastiv -> Boryspil’ -> Yahotyn -> Lubny -> Romny -> Okhtyrka -> Grayvoron -> Vovchansk -> Novyy Oskol -> Alekseyevka -> Rossosh -> Buturlinovka -> Kalach -> Novoanninskiy -> Mikhaylovka -> Kotovo -> Nikolayevsk -> Krasnyy Kut -> Novouzensk -> Chapayevsk -> Kinel -> Otradnyy -> Buguruslan -> Abdulino -> Rayevskiy -> Ufa -> Ishimbay -> Sim -> Bakal -> Uchaly -> Plast -> Troitsk -> Qarabalyq -> Qostanay -> Qusmuryn -> Esil -> Atbasar -> Zhaltyr -> Makīnsk -> Aqsū -> Kishkeneköl -> Omsk -> Cherlak -> Ertis -> Qashyr -> Kupino -> Slavgorod -> Kamen’-na-Obi -> Aleysk -> Novoaltaysk -> Zarinsk -> Guryevsk -> Belovo -> Myski -> Mezhdurechensk -> Shira -> Sorsk -> Minusinsk -> Artëmovsk -> Kyzyl -> Hödrögö -> Mörön -> Bulgan -> Erdenet -> Darhan -> Dzüünharaa -> Ulan-Ude -> Petrovsk-Zabaykal’skiy -> Khilok -> Chita -> Aginskoye -> Olovyannaya -> Borzya -> Manzhouli -> Krasnokamensk -> E’erguna -> Genhe -> Oroqen Zizhiqi -> Nenjiang -> Beian -> Blagoveshchensk -> Belogorsk -> Zavitinsk -> Obluchye -> Birobidzhan -> Fuyuan -> Khabarovsk -> Amursk -> Komsomol’sk-na-Amure -> De-Kastri -> Aleksandrovsk-Sakhalinskiy -> Nogliki -> Bol’sheretsk -> Vilyuchinsk -> Prince Rupert -> Terrace -> Smithers -> Campbell River -> Parksville -> North Vancouver -> Mission -> Hope -> Kamloops -> Spallumcheen -> Nelson -> Creston -> Fernie -> Crowsnest Pass -> High River -> Taber -> Brooks -> Medicine Hat -> Havre -> Swift Current -> Moose Jaw -> Regina -> Weyburn -> Estevan -> Minot -> Brandon -> Stanley -> East St. Paul -> La Broquerie -> Kenora -> Fort Frances -> Dryden -> Sioux Lookout -> Thunder Bay -> Hearst -> Kapuskasing -> Cochrane -> Kirkland Lake -> Rouyn-Noranda -> Amos -> Val-d’Or -> La Tuque -> Mistassini -> Saguenay -> Mont-Joli -> Amqui -> Campbellton -> Gaspé -> Stephenville -> Corner Brook -> Grand Falls -> Gander -> Clarenville -> Killarney -> Nenagh -> Waterford -> Wicklow -> Milford Haven -> Pontardulais -> Newport -> Calne -> Tilehurst\n",
            "Durata totale del viaggio: 728 ore\n",
            "È possibile completare il giro del mondo in 80 giorni? Sì\n"
          ]
        }
      ],
      "source": [
        "total_travel_time, visited_cities_list = simulate_journey(start_city, extended_cities)\n",
        "\n",
        "print(\"Città visitate nel viaggio:\")\n",
        "print(\" -> \".join(visited_cities_list))\n",
        "print(f\"Durata totale del viaggio: {total_travel_time} ore\")\n",
        "print(f\"È possibile completare il giro del mondo in 80 giorni? {'Sì' if total_travel_time <= 80*24 else 'No'}\")"
      ]
    }
  ],
  "metadata": {
    "kernelspec": {
      "display_name": "Python 3",
      "language": "python",
      "name": "python3"
    },
    "language_info": {
      "codemirror_mode": {
        "name": "ipython",
        "version": 3
      },
      "file_extension": ".py",
      "mimetype": "text/x-python",
      "name": "python",
      "nbconvert_exporter": "python",
      "pygments_lexer": "ipython3",
      "version": "3.12.3"
    }
  },
  "nbformat": 4,
  "nbformat_minor": 4
}
